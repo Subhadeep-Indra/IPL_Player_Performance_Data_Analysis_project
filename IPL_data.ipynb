{
 "cells": [
  {
   "cell_type": "code",
   "execution_count": 1,
   "id": "d7bd142e-49d8-4113-92bb-bb6dc0cf1399",
   "metadata": {},
   "outputs": [],
   "source": [
    "import numpy as np\n",
    "import pandas as pd"
   ]
  },
  {
   "cell_type": "code",
   "execution_count": 3,
   "id": "21e246af-a251-4213-8c8a-28195c737ac8",
   "metadata": {},
   "outputs": [],
   "source": [
    "df = pd.read_csv('IPL_Histroy_2008-2024.csv')"
   ]
  },
  {
   "cell_type": "code",
   "execution_count": 4,
   "id": "752005bf-57fb-43a9-a6cd-b06fd1a57e1a",
   "metadata": {},
   "outputs": [
    {
     "data": {
      "text/plain": [
       "<bound method NDFrame.tail of         match_id   inning   batting_team                  \\\n",
       "0          335982        1  Kolkata Knight Riders          \n",
       "1          335982        1  Kolkata Knight Riders          \n",
       "2          335982        1  Kolkata Knight Riders          \n",
       "3          335982        1  Kolkata Knight Riders          \n",
       "4          335982        1  Kolkata Knight Riders          \n",
       "...           ...      ...                           ...   \n",
       "260915    1426312        2  Kolkata Knight Riders          \n",
       "260916    1426312        2  Kolkata Knight Riders          \n",
       "260917    1426312        2  Kolkata Knight Riders          \n",
       "260918    1426312        2  Kolkata Knight Riders          \n",
       "260919    1426312        2  Kolkata Knight Riders          \n",
       "\n",
       "        bowling_team                  over   ball   batter                    \\\n",
       "0       Royal Challengers Bangalore       0      1  SC Ganguly                 \n",
       "1       Royal Challengers Bangalore       0      2  BB McCullum                \n",
       "2       Royal Challengers Bangalore       0      3  BB McCullum                \n",
       "3       Royal Challengers Bangalore       0      4  BB McCullum                \n",
       "4       Royal Challengers Bangalore       0      5  BB McCullum                \n",
       "...                              ...    ...    ...                       ...   \n",
       "260915  Sunrisers Hyderabad               9      5  SS Iyer                    \n",
       "260916  Sunrisers Hyderabad               9      6  VR Iyer                    \n",
       "260917  Sunrisers Hyderabad              10      1  VR Iyer                    \n",
       "260918  Sunrisers Hyderabad              10      2  SS Iyer                    \n",
       "260919  Sunrisers Hyderabad              10      3  VR Iyer                    \n",
       "\n",
       "        bowler                    non_striker               batsman_runs   \\\n",
       "0       P Kumar                   BB McCullum                           0   \n",
       "1       P Kumar                   SC Ganguly                            0   \n",
       "2       P Kumar                   SC Ganguly                            0   \n",
       "3       P Kumar                   SC Ganguly                            0   \n",
       "4       P Kumar                   SC Ganguly                            0   \n",
       "...                          ...                       ...            ...   \n",
       "260915  AK Markram                VR Iyer                               1   \n",
       "260916  AK Markram                SS Iyer                               1   \n",
       "260917  Shahbaz Ahmed             SS Iyer                               1   \n",
       "260918  Shahbaz Ahmed             VR Iyer                               1   \n",
       "260919  Shahbaz Ahmed             SS Iyer                               1   \n",
       "\n",
       "        extra_runs   total_runs   extras_type   is_wicket   \\\n",
       "0                 1            1  legbyes                0   \n",
       "1                 0            0                         0   \n",
       "2                 1            1  wides                  0   \n",
       "3                 0            0                         0   \n",
       "4                 0            0                         0   \n",
       "...             ...          ...           ...         ...   \n",
       "260915            0            1                         0   \n",
       "260916            0            1                         0   \n",
       "260917            0            1                         0   \n",
       "260918            0            1                         0   \n",
       "260919            0            1                         0   \n",
       "\n",
       "        player_dismissed          dismissal_kind         fielder  \n",
       "0       NA                        NA                         NaN  \n",
       "1       NA                        NA                         NaN  \n",
       "2       NA                        NA                         NaN  \n",
       "3       NA                        NA                         NaN  \n",
       "4       NA                        NA                         NaN  \n",
       "...                          ...                     ...     ...  \n",
       "260915  NA                        NA                         NaN  \n",
       "260916  NA                        NA                         NaN  \n",
       "260917  NA                        NA                         NaN  \n",
       "260918  NA                        NA                         NaN  \n",
       "260919  NA                        NA                         NaN  \n",
       "\n",
       "[260920 rows x 17 columns]>"
      ]
     },
     "execution_count": 4,
     "metadata": {},
     "output_type": "execute_result"
    }
   ],
   "source": [
    "df.tail"
   ]
  },
  {
   "cell_type": "code",
   "execution_count": 5,
   "id": "f310c87d-80c9-4b17-a660-d6a95e18faf2",
   "metadata": {},
   "outputs": [
    {
     "data": {
      "text/plain": [
       "(260920, 17)"
      ]
     },
     "execution_count": 5,
     "metadata": {},
     "output_type": "execute_result"
    }
   ],
   "source": [
    "df.shape"
   ]
  },
  {
   "cell_type": "code",
   "execution_count": 7,
   "id": "33db74b1-72cd-4fec-9e28-6017de76402d",
   "metadata": {},
   "outputs": [
    {
     "name": "stdout",
     "output_type": "stream",
     "text": [
      "match_id                             0\n",
      "inning                               0\n",
      "batting_team                         0\n",
      "bowling_team                         0\n",
      "over                                 0\n",
      "ball                                 0\n",
      "batter                               0\n",
      "bowler                               0\n",
      "non_striker                          0\n",
      "batsman_runs                         0\n",
      "extra_runs                           0\n",
      "total_runs                           0\n",
      "extras_type                          0\n",
      "is_wicket                            0\n",
      "player_dismissed                     0\n",
      "dismissal_kind                       0\n",
      "fielder                         251566\n",
      "dtype: int64\n"
     ]
    }
   ],
   "source": [
    "# Check for missing values\n",
    "print(df.isnull().sum())\n",
    "\n",
    "\n"
   ]
  },
  {
   "cell_type": "code",
   "execution_count": 10,
   "id": "4160c23f-96ff-4a65-b532-6f90136d4b72",
   "metadata": {},
   "outputs": [
    {
     "name": "stdout",
     "output_type": "stream",
     "text": [
      "Dataset Information:\n",
      "<class 'pandas.core.frame.DataFrame'>\n",
      "RangeIndex: 260920 entries, 0 to 260919\n",
      "Data columns (total 17 columns):\n",
      " #   Column                        Non-Null Count   Dtype \n",
      "---  ------                        --------------   ----- \n",
      " 0   match_id                      260920 non-null  int64 \n",
      " 1   inning                        260920 non-null  int64 \n",
      " 2   batting_team                  260920 non-null  object\n",
      " 3   bowling_team                  260920 non-null  object\n",
      " 4   over                          260920 non-null  int64 \n",
      " 5   ball                          260920 non-null  int64 \n",
      " 6   batter                        260920 non-null  object\n",
      " 7   bowler                        260920 non-null  object\n",
      " 8   non_striker                   260920 non-null  object\n",
      " 9   batsman_runs                  260920 non-null  int64 \n",
      " 10  extra_runs                    260920 non-null  int64 \n",
      " 11  total_runs                    260920 non-null  int64 \n",
      " 12  extras_type                   260920 non-null  object\n",
      " 13  is_wicket                     260920 non-null  int64 \n",
      " 14  player_dismissed              260920 non-null  object\n",
      " 15  dismissal_kind                260920 non-null  object\n",
      " 16  fielder                       9354 non-null    object\n",
      "dtypes: int64(8), object(9)\n",
      "memory usage: 33.8+ MB\n",
      "Index(['match_id', 'inning', 'batting_team', 'bowling_team', 'over', 'ball',\n",
      "       'batter', 'bowler', 'non_striker', 'batsman_runs', 'extra_runs',\n",
      "       'total_runs', 'extras_type', 'is_wicket', 'player_dismissed',\n",
      "       'dismissal_kind', 'fielder'],\n",
      "      dtype='object')\n",
      "   match_id  inning                  batting_team  \\\n",
      "0    335982       1  Kolkata Knight Riders          \n",
      "1    335982       1  Kolkata Knight Riders          \n",
      "2    335982       1  Kolkata Knight Riders          \n",
      "3    335982       1  Kolkata Knight Riders          \n",
      "4    335982       1  Kolkata Knight Riders          \n",
      "\n",
      "                   bowling_team  over  ball                    batter  \\\n",
      "0  Royal Challengers Bangalore      0     1  SC Ganguly                 \n",
      "1  Royal Challengers Bangalore      0     2  BB McCullum                \n",
      "2  Royal Challengers Bangalore      0     3  BB McCullum                \n",
      "3  Royal Challengers Bangalore      0     4  BB McCullum                \n",
      "4  Royal Challengers Bangalore      0     5  BB McCullum                \n",
      "\n",
      "                     bowler               non_striker  batsman_runs  \\\n",
      "0  P Kumar                   BB McCullum                          0   \n",
      "1  P Kumar                   SC Ganguly                           0   \n",
      "2  P Kumar                   SC Ganguly                           0   \n",
      "3  P Kumar                   SC Ganguly                           0   \n",
      "4  P Kumar                   SC Ganguly                           0   \n",
      "\n",
      "   extra_runs  total_runs   extras_type  is_wicket          player_dismissed  \\\n",
      "0           1           1  legbyes               0  NA                         \n",
      "1           0           0                        0  NA                         \n",
      "2           1           1  wides                 0  NA                         \n",
      "3           0           0                        0  NA                         \n",
      "4           0           0                        0  NA                         \n",
      "\n",
      "           dismissal_kind fielder  \n",
      "0  NA                         NaN  \n",
      "1  NA                         NaN  \n",
      "2  NA                         NaN  \n",
      "3  NA                         NaN  \n",
      "4  NA                         NaN  \n"
     ]
    },
    {
     "name": "stderr",
     "output_type": "stream",
     "text": [
      "C:\\Users\\SUBHADEEP INDRA\\AppData\\Local\\Temp\\ipykernel_60272\\3227834596.py:17: FutureWarning: \n",
      "\n",
      "Passing `palette` without assigning `hue` is deprecated and will be removed in v0.14.0. Assign the `x` variable to `hue` and set `legend=False` for the same effect.\n",
      "\n",
      "  sns.barplot(x=top_batters.index, y=top_batters.values, palette=\"viridis\")\n"
     ]
    },
    {
     "data": {
      "image/png": "[encoded data removed]",
      "text/plain": [
       "<Figure size 1000x600 with 1 Axes>"
      ]
     },
     "metadata": {},
     "output_type": "display_data"
    }
   ],
   "source": [
    "import matplotlib.pyplot as plt\n",
    "import seaborn as sns\n",
    "\n",
    "print(\"Dataset Information:\")\n",
    "df.info()\n",
    "# Strip extra spaces from column names\n",
    "df.columns = df.columns.str.strip()\n",
    "# Display the column names in the dataset\n",
    "print(df.columns)\n",
    "\n",
    "print(df.head())\n",
    "\n",
    "top_batters = df.groupby('batter')['total_runs'].sum().sort_values(ascending=False).head(5)\n",
    "\n",
    "# Plot the top batters\n",
    "plt.figure(figsize=(10, 6))\n",
    "sns.barplot(x=top_batters.index, y=top_batters.values, palette=\"viridis\")\n",
    "plt.title(\"Top 5 Batters with Most Total Runs\")\n",
    "plt.xlabel(\"Player\")\n",
    "plt.ylabel(\"Total Runs\")\n",
    "plt.xticks(rotation=45)\n",
    "plt.show()"
   ]
  },
  {
   "cell_type": "code",
   "execution_count": 13,
   "id": "47f6c089-ccce-4629-a50b-cc6c31cdd49f",
   "metadata": {},
   "outputs": [
    {
     "name": "stdout",
     "output_type": "stream",
     "text": [
      "bowler\n",
      "YS Chahal                   213\n",
      "DJ Bravo                    207\n",
      "PP Chawla                   201\n",
      "SP Narine                   200\n",
      "R Ashwin                    198\n",
      "B Kumar                     195\n",
      "SL Malinga                  188\n",
      "A Mishra                    183\n",
      "JJ Bumrah                   182\n",
      "RA Jadeja                   169\n",
      "Name: count, dtype: int64\n"
     ]
    },
    {
     "name": "stderr",
     "output_type": "stream",
     "text": [
      "C:\\Users\\SUBHADEEP INDRA\\AppData\\Local\\Temp\\ipykernel_60272\\2220614190.py:10: FutureWarning: \n",
      "\n",
      "Passing `palette` without assigning `hue` is deprecated and will be removed in v0.14.0. Assign the `y` variable to `hue` and set `legend=False` for the same effect.\n",
      "\n",
      "  sns.barplot(x=top_bowlers.values, y=top_bowlers.index, palette=\"Reds_r\")\n"
     ]
    },
    {
     "data": {
      "image/png": "[encoded data removed]",
      "text/plain": [
       "<Figure size 1000x500 with 1 Axes>"
      ]
     },
     "metadata": {},
     "output_type": "display_data"
    }
   ],
   "source": [
    "wickets_df = df[df[\"is_wicket\"] == 1]\n",
    "\n",
    "top_bowlers = wickets_df[\"bowler\"].value_counts().head(10)  # Top 10 bowlers\n",
    "print(top_bowlers)\n",
    "\n",
    "import matplotlib.pyplot as plt\n",
    "import seaborn as sns\n",
    "\n",
    "plt.figure(figsize=(10, 5))\n",
    "sns.barplot(x=top_bowlers.values, y=top_bowlers.index, palette=\"Reds_r\")\n",
    "plt.xlabel(\"Total Wickets\")\n",
    "plt.ylabel(\"Bowler Name\")\n",
    "plt.title(\"Top 10 Wicket-Takers in IPL (2008-2024)\")\n",
    "plt.show()\n"
   ]
  },
  {
   "cell_type": "code",
   "execution_count": 25,
   "id": "72e270db-5935-4514-8472-75478abc93da",
   "metadata": {},
   "outputs": [
    {
     "data": {
      "text/plain": [
       "Index(['match_id ', 'inning ', 'batting_team                ',\n",
       "       'bowling_team                ', 'over ', 'ball ',\n",
       "       'batter                  ', 'bowler                  ',\n",
       "       'non_striker             ', 'batsman_runs ', 'extra_runs ',\n",
       "       'total_runs ', 'extras_type ', 'is_wicket ', 'player_dismissed        ',\n",
       "       'dismissal_kind        ', 'fielder'],\n",
       "      dtype='object')"
      ]
     },
     "execution_count": 25,
     "metadata": {},
     "output_type": "execute_result"
    }
   ],
   "source": [
    "#Display column names\n",
    "\n",
    "df.columns"
   ]
  },
  {
   "cell_type": "code",
   "execution_count": 27,
   "id": "e723bc36-95f9-4b6c-8498-47b30acee4a4",
   "metadata": {},
   "outputs": [
    {
     "name": "stdout",
     "output_type": "stream",
     "text": [
      "Index(['match_id', 'inning', 'batting_team', 'bowling_team', 'over', 'ball',\n",
      "       'batter', 'bowler', 'non_striker', 'batsman_runs', 'extra_runs',\n",
      "       'total_runs', 'extras_type', 'is_wicket', 'player_dismissed',\n",
      "       'dismissal_kind', 'fielder'],\n",
      "      dtype='object')\n"
     ]
    }
   ],
   "source": [
    "# Remove extra spaces from column names\n",
    "df.columns = df.columns.str.strip()\n",
    "\n",
    "# Check the updated column names\n",
    "print(df.columns)\n"
   ]
  },
  {
   "cell_type": "code",
   "execution_count": 81,
   "id": "22fe1e9e-b430-465c-b2c9-9770c5294536",
   "metadata": {},
   "outputs": [
    {
     "name": "stderr",
     "output_type": "stream",
     "text": [
      "C:\\Users\\SUBHADEEP INDRA\\AppData\\Local\\Temp\\ipykernel_60272\\1960220952.py:11: FutureWarning: DataFrame.applymap has been deprecated. Use DataFrame.map instead.\n",
      "  df = df.applymap(lambda x: x.replace(\"Royal Challengers Bangalore\", \"Royal Challengers Bengaluru\") if isinstance(x, str) else x)\n"
     ]
    },
    {
     "name": "stdout",
     "output_type": "stream",
     "text": [
      "Dataset updated and saved successfully! ✅\n"
     ]
    }
   ],
   "source": [
    "import pandas as pd\n",
    "\n",
    "# Load the dataset\n",
    "file_path = \"IPL_Histroy_2008-2024.csv\"  # Ensure it's in the correct path\n",
    "df = pd.read_csv(file_path)\n",
    "\n",
    "# Check for trailing spaces in column names\n",
    "df.columns = df.columns.str.strip()\n",
    "\n",
    "# Replace \"Royal Challengers Bangalore\" with \"Royal Challengers Bengaluru\" in the entire DataFrame\n",
    "df = df.applymap(lambda x: x.replace(\"Royal Challengers Bangalore\", \"Royal Challengers Bengaluru\") if isinstance(x, str) else x)\n",
    "\n",
    "# Save the updated DataFrame back to the CSV file\n",
    "df.to_csv(file_path, index=False)\n",
    "\n",
    "print(\"Dataset updated and saved successfully! ✅\")\n"
   ]
  },
  {
   "cell_type": "code",
   "execution_count": 82,
   "id": "2c3948d2-1c6c-4f9f-b902-193876047f9f",
   "metadata": {},
   "outputs": [
    {
     "name": "stdout",
     "output_type": "stream",
     "text": [
      "   match_id                   winner_team  winning_score\n",
      "0    335982  Kolkata Knight Riders                   222\n",
      "2    335983  Chennai Super Kings                     240\n",
      "4    335984  Delhi Daredevils                        132\n",
      "7    335985  Royal Challengers Bengaluru             166\n",
      "9    335986  Kolkata Knight Riders                   112\n"
     ]
    }
   ],
   "source": [
    "# Calculate total runs scored by each team in each match\n",
    "match_scores = df.groupby([\"match_id\", \"batting_team\"])[\"total_runs\"].sum().reset_index()\n",
    "\n",
    "# Find the winner of each match\n",
    "match_winners = match_scores.sort_values([\"match_id\", \"total_runs\"], ascending=[True, False]).drop_duplicates(\"match_id\")\n",
    "\n",
    "# Rename columns for clarity\n",
    "match_winners = match_winners.rename(columns={\"batting_team\": \"winner_team\", \"total_runs\": \"winning_score\"})\n",
    "\n",
    "print(match_winners.head())  # Display the match winners"
   ]
  },
  {
   "cell_type": "code",
   "execution_count": 51,
   "id": "d37cc68b-8721-4fdd-8dff-17ae538a04d8",
   "metadata": {},
   "outputs": [
    {
     "name": "stdout",
     "output_type": "stream",
     "text": [
      "                            Team  Loses\n",
      "0   Royal Challengers Bengaluru     131\n",
      "1   Kolkata Knight Riders           121\n",
      "2   Mumbai Indians                  117\n",
      "3   Rajasthan Royals                109\n",
      "4   Kings XI Punjab                 102\n",
      "5   Chennai Super Kings             100\n",
      "6   Sunrisers Hyderabad              92\n",
      "7   Delhi Daredevils                 90\n",
      "8   Deccan Chargers                  46\n",
      "9   Delhi Capitals                   43\n",
      "10  Pune Warriors                    33\n",
      "11  Punjab Kings                     32\n",
      "12  Lucknow Super Giants             19\n",
      "13  Gujarat Lions                    17\n",
      "14  Gujarat Titans                   16\n",
      "15  Rising Pune Supergiants          10\n",
      "16  Kochi Tuskers Kerala              8\n",
      "17  Rising Pune Supergiant            6\n"
     ]
    }
   ],
   "source": [
    "# Count the number of matches won by each team\n",
    "team_loses = match_results[\"loser_team\"].value_counts().reset_index()\n",
    "team_loses.columns = [\"Team\", \"Loses\"]\n",
    "\n",
    "# Display the results\n",
    "print(team_loses)\n"
   ]
  },
  {
   "cell_type": "code",
   "execution_count": 90,
   "id": "db0f113b-4421-46f6-917a-e13988e45a27",
   "metadata": {},
   "outputs": [
    {
     "name": "stdout",
     "output_type": "stream",
     "text": [
      "📊 Performance Analytics for Narine\n",
      "Batting Stats:\n",
      "  Total Runs: 1534\n",
      "  Batting Average: 17.04\n",
      "  Strike Rate: 155.89\n",
      "  50s: 7, 100s: 1\n",
      "  Highest Score: 109\n",
      "  Fours: 164, Sixes: 97\n",
      "\n",
      "Bowling Stats:\n",
      "  Total Wickets: 180 (Run outs excluded: 20)\n",
      "  Highest Wickets in a Match: 5\n",
      "  Bowling Average: 25.96\n",
      "  Economy Rate: 6.76\n",
      "  Bowling Strike Rate: 23.03\n"
     ]
    }
   ],
   "source": [
    "import pandas as pd\n",
    "\n",
    "# Load dataset\n",
    "file_path = \"IPL_Histroy_2008-2024.csv\"\n",
    "df = pd.read_csv(file_path)\n",
    "\n",
    "# Clean column names\n",
    "df.columns = df.columns.str.strip()\n",
    "\n",
    "# Standardize \"dismissal_kind\" to remove extra spaces\n",
    "df[\"dismissal_kind\"] = df[\"dismissal_kind\"].str.strip()\n",
    "\n",
    "\n",
    "# Use a flexible search pattern\n",
    "player_name = \"Narine\"  # Partial name match to cover different formats\n",
    "\n",
    "# --- Batting Stats ---\n",
    "batting_data = df[df[\"batter\"].str.contains(player_name, case=False, na=False)]\n",
    "\n",
    "total_runs = batting_data[\"batsman_runs\"].sum()\n",
    "balls_faced = batting_data.shape[0]\n",
    "\n",
    "# Get dismissals count\n",
    "dismissals = df[(df[\"player_dismissed\"].str.contains(player_name, case=False, na=False))].shape[0]\n",
    "batting_average = total_runs / dismissals if dismissals > 0 else total_runs\n",
    "\n",
    "strike_rate = (total_runs / balls_faced) * 100 if balls_faced > 0 else 0\n",
    "\n",
    "# Count 50s & 100s\n",
    "runs_per_match = batting_data.groupby(\"match_id\")[\"batsman_runs\"].sum()\n",
    "fifties = runs_per_match[(runs_per_match >= 50) & (runs_per_match < 100)].count()\n",
    "hundreds = runs_per_match[runs_per_match >= 100].count()\n",
    "\n",
    "# Highest individual score in a match\n",
    "highest_score = runs_per_match.max()\n",
    "\n",
    "# Count 4s & 6s\n",
    "fours = batting_data[batting_data[\"batsman_runs\"] == 4].shape[0]\n",
    "sixes = batting_data[batting_data[\"batsman_runs\"] == 6].shape[0]\n",
    "\n",
    "# --- Bowling Stats ---\n",
    "bowling_data = df[df[\"bowler\"].str.contains(player_name, case=False, na=False)]\n",
    "\n",
    "# Correct total wickets (EXCLUDING run-outs)\n",
    "wickets_data = df[\n",
    "    (df[\"bowler\"].str.contains(player_name, case=False, na=False)) &\n",
    "    (df[\"is_wicket\"] == 1) &\n",
    "    (df[\"dismissal_kind\"] != \"run out\")  # Exclude run-outs\n",
    "]\n",
    "\n",
    "total_wickets = wickets_data.shape[0]\n",
    "\n",
    "# Count run-outs separately\n",
    "run_outs = df[\n",
    "    (df[\"bowler\"].str.contains(player_name, case=False, na=False)) &\n",
    "    (df[\"dismissal_kind\"] == \"run out\")\n",
    "].shape[0]\n",
    "\n",
    "runs_conceded = bowling_data[\"total_runs\"].sum()\n",
    "balls_bowled = bowling_data.shape[0]\n",
    "\n",
    "economy_rate = (runs_conceded / (balls_bowled / 6)) if balls_bowled > 0 else 0\n",
    "bowling_average = (runs_conceded / total_wickets) if total_wickets > 0 else 0\n",
    "bowling_strike_rate = (balls_bowled / total_wickets) if total_wickets > 0 else 0\n",
    "\n",
    "# Highest wickets in a single match\n",
    "wickets_per_match = wickets_data.groupby(\"match_id\").size()\n",
    "highest_wickets_in_match = wickets_per_match.max() if not wickets_per_match.empty else 0\n",
    "\n",
    "# Print Player Stats\n",
    "print(f\"📊 Performance Analytics for {player_name}\")\n",
    "print(\"Batting Stats:\")\n",
    "print(f\"  Total Runs: {total_runs}\")\n",
    "print(f\"  Batting Average: {batting_average:.2f}\")\n",
    "print(f\"  Strike Rate: {strike_rate:.2f}\")\n",
    "print(f\"  50s: {fifties}, 100s: {hundreds}\")\n",
    "print(f\"  Highest Score: {highest_score}\")\n",
    "print(f\"  Fours: {fours}, Sixes: {sixes}\")\n",
    "\n",
    "print(\"\\nBowling Stats:\")\n",
    "print(f\"  Total Wickets: {total_wickets} (Run outs excluded: {run_outs})\")\n",
    "print(f\"  Highest Wickets in a Match: {highest_wickets_in_match}\")\n",
    "print(f\"  Bowling Average: {bowling_average:.2f}\")\n",
    "print(f\"  Economy Rate: {economy_rate:.2f}\")\n",
    "print(f\"  Bowling Strike Rate: {bowling_strike_rate:.2f}\")\n"
   ]
  },
  {
   "cell_type": "code",
   "execution_count": 89,
   "id": "b3f49b72-fa4b-4a57-8595-acfc9d9181bc",
   "metadata": {},
   "outputs": [
    {
     "data": {
      "text/plain": [
       "'IPL_Histroy_2008-2024.csv'"
      ]
     },
     "execution_count": 89,
     "metadata": {},
     "output_type": "execute_result"
    }
   ],
   "source": [
    "import pandas as pd\n",
    "\n",
    "# Load the dataset\n",
    "file_path = \"IPL_Histroy_2008-2024.csv\"\n",
    "df = pd.read_csv(file_path)\n",
    "\n",
    "# Reset match_id to start from 1 and increment sequentially\n",
    "df[\"match_id\"] = pd.factorize(df[\"match_id\"])[0] + 1\n",
    "\n",
    "# Save the updated dataset\n",
    "updated_file_path = \"IPL_Histroy_2008-2024.csv\"\n",
    "df.to_csv(updated_file_path, index=False)\n",
    "\n",
    "# Return the new file path\n",
    "updated_file_path\n"
   ]
  },
  {
   "cell_type": "code",
   "execution_count": 105,
   "id": "443a44cd-0685-4899-a5c9-c9caf9429aca",
   "metadata": {},
   "outputs": [
    {
     "name": "stdout",
     "output_type": "stream",
     "text": [
      "✅ Match year assigned to all matches successfully!\n"
     ]
    }
   ],
   "source": [
    "import pandas as pd\n",
    "\n",
    "# Load the dataset\n",
    "df = pd.read_csv(\"IPL_Histroy_2008-2024.csv\")\n",
    "\n",
    "# Final match IDs mapping to years\n",
    "final_matches = {\n",
    "    58: 2008, 115: 2009, 175: 2010, 248: 2011, 322: 2012, 398: 2013, 458: 2014,\n",
    "    517: 2015, 577: 2016, 636: 2017, 696: 2018, 756: 2019, 816: 2020, 876: 2021,\n",
    "    950: 2022, 1024: 2023, 1095: 2024\n",
    "}\n",
    "\n",
    "# Create a match_year column with NaN initially\n",
    "df[\"match_year\"] = None  \n",
    "\n",
    "# Assign year based on match ID range\n",
    "prev_match_id = 0  # Starting point for first season\n",
    "for final_id, year in final_matches.items():\n",
    "    df.loc[(df[\"match_id\"] > prev_match_id) & (df[\"match_id\"] <= final_id), \"match_year\"] = year\n",
    "    prev_match_id = final_id  # Move to next season\n",
    "\n",
    "# Convert match_year to integer type\n",
    "df[\"match_year\"] = df[\"match_year\"].astype(\"Int64\")\n",
    "\n",
    "# Save the updated CSV\n",
    "df.to_csv(\"IPL_Histroy_2008-2024.csv\", index=False)\n",
    "\n",
    "print(\"✅ Match year assigned to all matches successfully!\")\n"
   ]
  },
  {
   "cell_type": "code",
   "execution_count": 106,
   "id": "bfbb7b78-3baf-48f3-a442-260e31d13fbb",
   "metadata": {},
   "outputs": [
    {
     "name": "stdout",
     "output_type": "stream",
     "text": [
      "      Season         Orange Cap Winner  Total Runs\n",
      "115     2008  SE Marsh                         616\n",
      "229     2009  ML Hayden                        572\n",
      "446     2010  SR Tendulkar                     618\n",
      "502     2011  CH Gayle                         608\n",
      "684     2012  CH Gayle                         733\n",
      "910     2013  MEK Hussey                       733\n",
      "1088    2014  RV Uthappa                       660\n",
      "1148    2015  DA Warner                        562\n",
      "1383    2016  V Kohli                          973\n",
      "1422    2017  DA Warner                        641\n",
      "1594    2018  KS Williamson                    735\n",
      "1694    2019  DA Warner                        692\n",
      "1866    2020  KL Rahul                         676\n",
      "2051    2021  RD Gaikwad                       635\n",
      "2144    2022  JC Buttler                       863\n",
      "2423    2023  Shubman Gill                     890\n",
      "2606    2024  V Kohli                          741\n"
     ]
    }
   ],
   "source": [
    "import pandas as pd\n",
    "\n",
    "# Load the dataset\n",
    "df = pd.read_csv(\"IPL_Histroy_2008-2024.csv\")  # Use the file with match_year column\n",
    "\n",
    "# Group by season and batter to get total runs\n",
    "season_runs = df.groupby([\"match_year\", \"batter\"])[\"batsman_runs\"].sum().reset_index()\n",
    "\n",
    "# Find the top scorer (Orange Cap winner) for each season\n",
    "orange_cap_winners = season_runs.loc[season_runs.groupby(\"match_year\")[\"batsman_runs\"].idxmax()]\n",
    "\n",
    "# Rename columns for better understanding\n",
    "orange_cap_winners = orange_cap_winners.rename(columns={\"match_year\": \"Season\", \"batter\": \"Orange Cap Winner\", \"batsman_runs\": \"Total Runs\"})\n",
    "\n",
    "# Sort by season\n",
    "orange_cap_winners = orange_cap_winners.sort_values(by=\"Season\")\n",
    "\n",
    "\n",
    "\n",
    "# Display output\n",
    "print(orange_cap_winners)\n"
   ]
  },
  {
   "cell_type": "code",
   "execution_count": 111,
   "id": "f503f422-f833-45e4-945b-d3d4a55ab940",
   "metadata": {},
   "outputs": [
    {
     "name": "stdout",
     "output_type": "stream",
     "text": [
      "Unique dismissal types: ['NA' 'caught' 'bowled' 'run out' 'lbw' 'retired hurt' 'stumped'\n",
      " 'caught and bowled' 'hit wicket' 'obstructing the field' 'retired out']\n",
      "Total catches found: 8063\n",
      "🏏 Top 5 Fielders with Most Catches in IPL 🏏\n",
      "fielder\n",
      "MS Dhoni          152\n",
      "KD Karthik        145\n",
      "AB de Villiers    120\n",
      "V Kohli           114\n",
      "SK Raina          106\n",
      "Name: count, dtype: int64\n"
     ]
    },
    {
     "name": "stderr",
     "output_type": "stream",
     "text": [
      "C:\\Users\\SUBHADEEP INDRA\\AppData\\Local\\Programs\\Python\\Python311\\Lib\\site-packages\\IPython\\core\\pylabtools.py:170: UserWarning: Glyph 127951 (\\N{CRICKET BAT AND BALL}) missing from font(s) DejaVu Sans.\n",
      "  fig.canvas.print_figure(bytes_io, **kw)\n"
     ]
    },
    {
     "data": {
      "image/png": "[encoded data removed]",
      "text/plain": [
       "<Figure size 1000x500 with 1 Axes>"
      ]
     },
     "metadata": {},
     "output_type": "display_data"
    }
   ],
   "source": [
    "import pandas as pd\n",
    "import matplotlib.pyplot as plt\n",
    "\n",
    "# Load dataset\n",
    "file_path = \"IPL_Histroy_2008-2024.csv\"\n",
    "df = pd.read_csv(file_path)\n",
    "\n",
    "# Clean column names and remove extra spaces\n",
    "df.columns = df.columns.str.strip()\n",
    "df[\"dismissal_kind\"] = df[\"dismissal_kind\"].astype(str).str.strip()\n",
    "df[\"fielder\"] = df[\"fielder\"].astype(str).str.strip()\n",
    "\n",
    "# Debug: Check unique dismissal types\n",
    "print(\"Unique dismissal types:\", df[\"dismissal_kind\"].unique())\n",
    "\n",
    "# Filter only 'caught' dismissals\n",
    "catch_data = df[df[\"dismissal_kind\"].str.lower() == \"caught\"]\n",
    "\n",
    "# Debug: Check if we have any catches in dataset\n",
    "print(f\"Total catches found: {catch_data.shape[0]}\")\n",
    "\n",
    "# Count catches for each fielder and get top 5\n",
    "top_catchers = catch_data[\"fielder\"].value_counts().head(5)\n",
    "\n",
    "# Display the top 5 catchers\n",
    "print(\"🏏 Top 5 Fielders with Most Catches in IPL 🏏\")\n",
    "print(top_catchers)\n",
    "\n",
    "# --- 📊 Plot Bar Chart ---\n",
    "plt.figure(figsize=(10, 5))\n",
    "top_catchers.sort_values().plot(kind=\"barh\", color=\"orange\", edgecolor=\"black\")\n",
    "plt.xlabel(\"Total Catches\")\n",
    "plt.ylabel(\"Fielder\")\n",
    "plt.title(\"🏏 Top 5 Fielders with Most Catches in IPL\")\n",
    "plt.grid(axis=\"x\", linestyle=\"--\", alpha=0.7)\n",
    "\n",
    "# Show the chart\n",
    "plt.show()\n"
   ]
  },
  {
   "cell_type": "code",
   "execution_count": null,
   "id": "e431b1bf-287f-4600-b878-872907756bb5",
   "metadata": {},
   "outputs": [],
   "source": []
  }
 ],
 "metadata": {
  "kernelspec": {
   "display_name": "Python 3 (ipykernel)",
   "language": "python",
   "name": "python3"
  },
  "language_info": {
   "codemirror_mode": {
    "name": "ipython",
    "version": 3
   },
   "file_extension": ".py",
   "mimetype": "text/x-python",
   "name": "python",
   "nbconvert_exporter": "python",
   "pygments_lexer": "ipython3",
   "version": "3.11.5"
  }
 },
 "nbformat": 4,
 "nbformat_minor": 5
}
